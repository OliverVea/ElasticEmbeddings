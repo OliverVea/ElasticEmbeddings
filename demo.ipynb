{
 "cells": [
  {
   "cell_type": "markdown",
   "metadata": {},
   "source": [
    "# Demo of ElasticEmbeddings"
   ]
  },
  {
   "cell_type": "markdown",
   "metadata": {},
   "source": [
    "## Setup\n",
    "\n",
    "Execute the following commands in the root directory of the repository.\n",
    "\n",
    "1. Run the application `docker compose up -d`\n",
    "1. Verify that the [swagger page](http://localhost:8080/swagger/index.html) is available"
   ]
  },
  {
   "cell_type": "markdown",
   "metadata": {},
   "source": [
    "## Demo"
   ]
  },
  {
   "cell_type": "code",
   "execution_count": 4,
   "metadata": {},
   "outputs": [
    {
     "name": "stdout",
     "output_type": "stream",
     "text": [
      "Requirement already satisfied: requests in c:\\users\\olve\\appdata\\local\\programs\\python\\python311\\lib\\site-packages (2.29.0)\n",
      "Requirement already satisfied: charset-normalizer<4,>=2 in c:\\users\\olve\\appdata\\local\\programs\\python\\python311\\lib\\site-packages (from requests) (2.1.1)\n",
      "Requirement already satisfied: idna<4,>=2.5 in c:\\users\\olve\\appdata\\local\\programs\\python\\python311\\lib\\site-packages (from requests) (3.4)\n",
      "Requirement already satisfied: urllib3<1.27,>=1.21.1 in c:\\users\\olve\\appdata\\local\\programs\\python\\python311\\lib\\site-packages (from requests) (1.26.12)\n",
      "Requirement already satisfied: certifi>=2017.4.17 in c:\\users\\olve\\appdata\\local\\programs\\python\\python311\\lib\\site-packages (from requests) (2022.9.24)\n",
      "Note: you may need to restart the kernel to use updated packages.\n"
     ]
    },
    {
     "name": "stderr",
     "output_type": "stream",
     "text": [
      "\n",
      "[notice] A new release of pip is available: 23.1.2 -> 23.3.2\n",
      "[notice] To update, run: python.exe -m pip install --upgrade pip\n"
     ]
    },
    {
     "name": "stdout",
     "output_type": "stream",
     "text": [
      "Requirement already satisfied: urlpath in c:\\users\\olve\\appdata\\local\\programs\\python\\python311\\lib\\site-packages (1.2.0)\n",
      "Requirement already satisfied: requests in c:\\users\\olve\\appdata\\local\\programs\\python\\python311\\lib\\site-packages (from urlpath) (2.29.0)\n",
      "Requirement already satisfied: charset-normalizer<4,>=2 in c:\\users\\olve\\appdata\\local\\programs\\python\\python311\\lib\\site-packages (from requests->urlpath) (2.1.1)\n",
      "Requirement already satisfied: idna<4,>=2.5 in c:\\users\\olve\\appdata\\local\\programs\\python\\python311\\lib\\site-packages (from requests->urlpath) (3.4)\n",
      "Requirement already satisfied: urllib3<1.27,>=1.21.1 in c:\\users\\olve\\appdata\\local\\programs\\python\\python311\\lib\\site-packages (from requests->urlpath) (1.26.12)\n",
      "Requirement already satisfied: certifi>=2017.4.17 in c:\\users\\olve\\appdata\\local\\programs\\python\\python311\\lib\\site-packages (from requests->urlpath) (2022.9.24)\n",
      "Note: you may need to restart the kernel to use updated packages.\n"
     ]
    },
    {
     "name": "stderr",
     "output_type": "stream",
     "text": [
      "\n",
      "[notice] A new release of pip is available: 23.1.2 -> 23.3.2\n",
      "[notice] To update, run: python.exe -m pip install --upgrade pip\n"
     ]
    }
   ],
   "source": [
    "%pip install requests\n",
    "%pip install urlpath"
   ]
  },
  {
   "cell_type": "code",
   "execution_count": 5,
   "metadata": {},
   "outputs": [],
   "source": [
    "import requests\n",
    "import urlpath\n",
    "import dataclasses\n",
    "import uuid\n",
    "\n",
    "base_url = urlpath.URL('http://localhost:8080')\n",
    "\n",
    "@dataclasses.dataclass\n",
    "class Book:\n",
    "    id: uuid.UUID\n",
    "    title: str\n",
    "\n",
    "def create_book(book: Book):\n",
    "    requests.put(base_url / 'documents' / book.id, json={\n",
    "        'title': book.title,\n",
    "        'text': ''\n",
    "    })\n",
    "\n",
    "def create_books(books: list[Book]):\n",
    "    for book in books:\n",
    "        create_book(book)"
   ]
  },
  {
   "cell_type": "code",
   "execution_count": 6,
   "metadata": {},
   "outputs": [
    {
     "name": "stdout",
     "output_type": "stream",
     "text": [
      "Title: The Fellowship of the Ring, GUID: c4b50524-b9b3-4942-9306-434468277362\n",
      "Title: The Two Towers, GUID: 48bc5d77-ec23-401b-8d85-5d93fd312f78\n",
      "Title: The Return of the King, GUID: b63d2123-74bb-41da-9e35-d2ba2a7e9d3b\n",
      "Title: The Lion, the Witch and the Wardrobe, GUID: e369d1c5-e052-48d0-aec6-497e8271443b\n",
      "Title: Harry Potter and the Philosopher's Stone, GUID: 31482626-c6cb-4a31-b024-fe49c6902f38\n",
      "Title: Harry Potter and the Chamber of Secrets, GUID: d088ce5b-ff55-4c5f-a67d-ad33fa77e8e1\n",
      "Title: Harry Potter and the Prisoner of Azkaban, GUID: 604b6242-1723-4ccb-9ed6-91d3c39500cc\n",
      "Title: Harry Potter and the Goblet of Fire, GUID: e576f648-b440-43b3-98fe-abccd2311346\n",
      "Title: Harry Potter and the Order of the Phoenix, GUID: 5bd8420d-adbd-4279-b23d-7aea2341ed5e\n",
      "Title: Harry Potter and the Half-Blood Prince, GUID: 103afa59-919f-42e7-a9e3-1c94b7e825c8\n",
      "Title: Harry Potter and the Deathly Hallows, GUID: 4cf5cbf7-4421-4895-8b3a-e255fe9604f5\n"
     ]
    }
   ],
   "source": [
    "# Creating a list of Book objects with titles and GUIDs\n",
    "book_titles = [\n",
    "    ('The Fellowship of the Ring', 'c4b50524-b9b3-4942-9306-434468277362'),\n",
    "    ('The Two Towers', '48bc5d77-ec23-401b-8d85-5d93fd312f78'),\n",
    "    ('The Return of the King', 'b63d2123-74bb-41da-9e35-d2ba2a7e9d3b'),\n",
    "    ('The Lion, the Witch and the Wardrobe', 'e369d1c5-e052-48d0-aec6-497e8271443b'),\n",
    "    ('Harry Potter and the Philosopher\\'s Stone','31482626-c6cb-4a31-b024-fe49c6902f38'),\n",
    "    ('Harry Potter and the Chamber of Secrets', 'd088ce5b-ff55-4c5f-a67d-ad33fa77e8e1'),\n",
    "    ('Harry Potter and the Prisoner of Azkaban', '604b6242-1723-4ccb-9ed6-91d3c39500cc'),\n",
    "    ('Harry Potter and the Goblet of Fire', 'e576f648-b440-43b3-98fe-abccd2311346'),\n",
    "    ('Harry Potter and the Order of the Phoenix', '5bd8420d-adbd-4279-b23d-7aea2341ed5e'),\n",
    "    ('Harry Potter and the Half-Blood Prince', '103afa59-919f-42e7-a9e3-1c94b7e825c8'),\n",
    "    ('Harry Potter and the Deathly Hallows', '4cf5cbf7-4421-4895-8b3a-e255fe9604f5'),\n",
    "]\n",
    "\n",
    "# Creating a list of Book objects\n",
    "books = [Book(guid, title) for title, guid in book_titles]\n",
    "\n",
    "# Print the books to verify\n",
    "for book in books:\n",
    "    print(f'Title: {book.title}, GUID: {book.id}')"
   ]
  },
  {
   "cell_type": "code",
   "execution_count": 7,
   "metadata": {},
   "outputs": [],
   "source": [
    "create_books(books)"
   ]
  },
  {
   "cell_type": "code",
   "execution_count": 8,
   "metadata": {},
   "outputs": [],
   "source": [
    "import time\n",
    "\n",
    "time.sleep(5)"
   ]
  },
  {
   "cell_type": "code",
   "execution_count": 9,
   "metadata": {},
   "outputs": [],
   "source": [
    "def search_books(query: str, count: int = 5):\n",
    "    books = requests.get(base_url / 'search' / query).json()['documents'][:count]\n",
    "    return [(book['document']['title'], book['score']) for book in books]"
   ]
  },
  {
   "cell_type": "code",
   "execution_count": 11,
   "metadata": {},
   "outputs": [
    {
     "data": {
      "text/plain": [
       "[(\"Harry Potter and the Philosopher's Stone\", 0.92648256),\n",
       " ('Harry Potter and the Order of the Phoenix', 0.9242429),\n",
       " ('Harry Potter and the Deathly Hallows', 0.92275167),\n",
       " ('Harry Potter and the Half-Blood Prince', 0.9210466),\n",
       " ('Harry Potter and the Prisoner of Azkaban', 0.91992533)]"
      ]
     },
     "execution_count": 11,
     "metadata": {},
     "output_type": "execute_result"
    }
   ],
   "source": [
    "search_books('JK Rowling')"
   ]
  },
  {
   "cell_type": "code",
   "execution_count": 12,
   "metadata": {},
   "outputs": [
    {
     "data": {
      "text/plain": [
       "[('The Fellowship of the Ring', 0.9275134),\n",
       " ('The Two Towers', 0.92282647),\n",
       " ('The Return of the King', 0.916716),\n",
       " (\"Harry Potter and the Philosopher's Stone\", 0.9129532),\n",
       " ('The Lion, the Witch and the Wardrobe', 0.9113982)]"
      ]
     },
     "execution_count": 12,
     "metadata": {},
     "output_type": "execute_result"
    }
   ],
   "source": [
    "search_books('JRR Tolkien')"
   ]
  },
  {
   "cell_type": "code",
   "execution_count": 13,
   "metadata": {},
   "outputs": [
    {
     "data": {
      "text/plain": [
       "[(\"Harry Potter and the Philosopher's Stone\", 0.9080987),\n",
       " ('The Lion, the Witch and the Wardrobe', 0.9070518),\n",
       " ('Harry Potter and the Order of the Phoenix', 0.90583074),\n",
       " ('Harry Potter and the Prisoner of Azkaban', 0.9052825),\n",
       " ('Harry Potter and the Half-Blood Prince', 0.9043728)]"
      ]
     },
     "execution_count": 13,
     "metadata": {},
     "output_type": "execute_result"
    }
   ],
   "source": [
    "search_books('Wizard')"
   ]
  },
  {
   "cell_type": "code",
   "execution_count": 14,
   "metadata": {},
   "outputs": [
    {
     "data": {
      "text/plain": [
       "[('The Fellowship of the Ring', 0.91779804),\n",
       " ('The Two Towers', 0.90987486),\n",
       " ('The Return of the King', 0.90977865),\n",
       " ('Harry Potter and the Goblet of Fire', 0.9081961),\n",
       " ('Harry Potter and the Deathly Hallows', 0.90047026)]"
      ]
     },
     "execution_count": 14,
     "metadata": {},
     "output_type": "execute_result"
    }
   ],
   "source": [
    "search_books('gandalf')"
   ]
  },
  {
   "cell_type": "code",
   "execution_count": 15,
   "metadata": {},
   "outputs": [
    {
     "data": {
      "text/plain": [
       "[('Harry Potter and the Order of the Phoenix', 0.94424343),\n",
       " ('Harry Potter and the Half-Blood Prince', 0.94274575),\n",
       " ('Harry Potter and the Deathly Hallows', 0.9425274),\n",
       " (\"Harry Potter and the Philosopher's Stone\", 0.942337),\n",
       " ('Harry Potter and the Goblet of Fire', 0.9394162)]"
      ]
     },
     "execution_count": 15,
     "metadata": {},
     "output_type": "execute_result"
    }
   ],
   "source": [
    "search_books('Harry Potter')"
   ]
  }
 ],
 "metadata": {
  "kernelspec": {
   "display_name": "Python 3",
   "language": "python",
   "name": "python3"
  },
  "language_info": {
   "codemirror_mode": {
    "name": "ipython",
    "version": 3
   },
   "file_extension": ".py",
   "mimetype": "text/x-python",
   "name": "python",
   "nbconvert_exporter": "python",
   "pygments_lexer": "ipython3",
   "version": "3.11.2"
  },
  "orig_nbformat": 4
 },
 "nbformat": 4,
 "nbformat_minor": 2
}
