{
 "cells": [
  {
   "cell_type": "markdown",
   "metadata": {},
   "source": [
    "# Demo of ElasticEmbeddings"
   ]
  },
  {
   "cell_type": "markdown",
   "metadata": {},
   "source": [
    "## Setup\n",
    "\n",
    "Execute the following commands in the root directory of the repository.\n",
    "\n",
    "1. Run the dependencies `docker compose up -d`\n",
    "1. Run the API `dotnet run --project ./src/ElasticEmbeddings.API`\n",
    "1. Verify that the [swagger page](http://localhost:5269/swagger/index.html) is available"
   ]
  },
  {
   "cell_type": "markdown",
   "metadata": {},
   "source": [
    "## Demo"
   ]
  },
  {
   "cell_type": "code",
   "execution_count": 49,
   "metadata": {},
   "outputs": [],
   "source": [
    "import requests\n",
    "import urlpath\n",
    "import dataclasses\n",
    "import uuid\n",
    "\n",
    "base_url = urlpath.URL('http://localhost:5269')\n",
    "\n",
    "@dataclasses.dataclass\n",
    "class Book:\n",
    "    id: uuid.UUID\n",
    "    title: str\n",
    "\n",
    "def create_book(book: Book):\n",
    "    requests.put(base_url / 'documents' / book.id, json={\n",
    "        'title': book.title,\n",
    "        'text': ''\n",
    "    })\n",
    "\n",
    "def create_books(books: list[Book]):\n",
    "    for book in books:\n",
    "        create_book(book)"
   ]
  },
  {
   "cell_type": "code",
   "execution_count": 50,
   "metadata": {},
   "outputs": [
    {
     "name": "stdout",
     "output_type": "stream",
     "text": [
      "Title: The Fellowship of the Ring, GUID: c4b50524-b9b3-4942-9306-434468277362\n",
      "Title: The Two Towers, GUID: 48bc5d77-ec23-401b-8d85-5d93fd312f78\n",
      "Title: The Return of the King, GUID: b63d2123-74bb-41da-9e35-d2ba2a7e9d3b\n",
      "Title: The Lion, the Witch and the Wardrobe, GUID: e369d1c5-e052-48d0-aec6-497e8271443b\n",
      "Title: Harry Potter and the Philosopher's Stone, GUID: 31482626-c6cb-4a31-b024-fe49c6902f38\n",
      "Title: Harry Potter and the Chamber of Secrets, GUID: d088ce5b-ff55-4c5f-a67d-ad33fa77e8e1\n",
      "Title: Harry Potter and the Prisoner of Azkaban, GUID: 604b6242-1723-4ccb-9ed6-91d3c39500cc\n",
      "Title: Harry Potter and the Goblet of Fire, GUID: e576f648-b440-43b3-98fe-abccd2311346\n",
      "Title: Harry Potter and the Order of the Phoenix, GUID: 5bd8420d-adbd-4279-b23d-7aea2341ed5e\n",
      "Title: Harry Potter and the Half-Blood Prince, GUID: 103afa59-919f-42e7-a9e3-1c94b7e825c8\n",
      "Title: Harry Potter and the Deathly Hallows, GUID: 4cf5cbf7-4421-4895-8b3a-e255fe9604f5\n"
     ]
    }
   ],
   "source": [
    "# Creating a list of Book objects with titles and GUIDs\n",
    "book_titles = [\n",
    "    ('The Fellowship of the Ring', 'c4b50524-b9b3-4942-9306-434468277362'),\n",
    "    ('The Two Towers', '48bc5d77-ec23-401b-8d85-5d93fd312f78'),\n",
    "    ('The Return of the King', 'b63d2123-74bb-41da-9e35-d2ba2a7e9d3b'),\n",
    "    ('The Lion, the Witch and the Wardrobe', 'e369d1c5-e052-48d0-aec6-497e8271443b'),\n",
    "    ('Harry Potter and the Philosopher\\'s Stone','31482626-c6cb-4a31-b024-fe49c6902f38'),\n",
    "    ('Harry Potter and the Chamber of Secrets', 'd088ce5b-ff55-4c5f-a67d-ad33fa77e8e1'),\n",
    "    ('Harry Potter and the Prisoner of Azkaban', '604b6242-1723-4ccb-9ed6-91d3c39500cc'),\n",
    "    ('Harry Potter and the Goblet of Fire', 'e576f648-b440-43b3-98fe-abccd2311346'),\n",
    "    ('Harry Potter and the Order of the Phoenix', '5bd8420d-adbd-4279-b23d-7aea2341ed5e'),\n",
    "    ('Harry Potter and the Half-Blood Prince', '103afa59-919f-42e7-a9e3-1c94b7e825c8'),\n",
    "    ('Harry Potter and the Deathly Hallows', '4cf5cbf7-4421-4895-8b3a-e255fe9604f5'),\n",
    "]\n",
    "\n",
    "# Creating a list of Book objects\n",
    "books = [Book(guid, title) for title, guid in book_titles]\n",
    "\n",
    "# Print the books to verify\n",
    "for book in books:\n",
    "    print(f'Title: {book.title}, GUID: {book.id}')"
   ]
  },
  {
   "cell_type": "code",
   "execution_count": 51,
   "metadata": {},
   "outputs": [],
   "source": [
    "create_books(books)"
   ]
  },
  {
   "cell_type": "code",
   "execution_count": 52,
   "metadata": {},
   "outputs": [],
   "source": [
    "import time\n",
    "\n",
    "time.sleep(5)"
   ]
  },
  {
   "cell_type": "code",
   "execution_count": 53,
   "metadata": {},
   "outputs": [],
   "source": [
    "def search_books(query: str, count: int = 5):\n",
    "    books = requests.get(base_url / 'search' / query).json()['documents'][:count]\n",
    "    return [(book['document']['title'], book['score']) for book in books]"
   ]
  },
  {
   "cell_type": "code",
   "execution_count": 56,
   "metadata": {},
   "outputs": [
    {
     "data": {
      "text/plain": [
       "[(\"Harry Potter and the Philosopher's Stone\", 0.93034047),\n",
       " ('Harry Potter and the Deathly Hallows', 0.92941546),\n",
       " ('Harry Potter and the Order of the Phoenix', 0.9277943),\n",
       " ('Harry Potter and the Half-Blood Prince', 0.92407084),\n",
       " ('Harry Potter and the Prisoner of Azkaban', 0.92169785)]"
      ]
     },
     "execution_count": 56,
     "metadata": {},
     "output_type": "execute_result"
    }
   ],
   "source": [
    "search_books('JK Rowling')"
   ]
  },
  {
   "cell_type": "code",
   "execution_count": null,
   "metadata": {},
   "outputs": [
    {
     "data": {
      "text/plain": [
       "[('The Fellowship of the Ring', 0.92901015),\n",
       " ('The Two Towers', 0.9244771),\n",
       " ('The Return of the King', 0.92027223),\n",
       " (\"Harry Potter and the Philosopher's Stone\", 0.91340876),\n",
       " ('Harry Potter and the Deathly Hallows', 0.91126585)]"
      ]
     },
     "execution_count": 37,
     "metadata": {},
     "output_type": "execute_result"
    }
   ],
   "source": [
    "search_books('JRR Tolkien')"
   ]
  },
  {
   "cell_type": "code",
   "execution_count": null,
   "metadata": {},
   "outputs": [
    {
     "data": {
      "text/plain": [
       "[(\"Harry Potter and the Philosopher's Stone\", 0.9104539),\n",
       " ('Harry Potter and the Half-Blood Prince', 0.908565),\n",
       " ('Harry Potter and the Order of the Phoenix', 0.9079846),\n",
       " ('Harry Potter and the Deathly Hallows', 0.9072695),\n",
       " ('Harry Potter and the Prisoner of Azkaban', 0.90472674)]"
      ]
     },
     "execution_count": 38,
     "metadata": {},
     "output_type": "execute_result"
    }
   ],
   "source": [
    "search_books('Wizard')"
   ]
  },
  {
   "cell_type": "code",
   "execution_count": null,
   "metadata": {},
   "outputs": [
    {
     "data": {
      "text/plain": [
       "[('The Fellowship of the Ring', 0.9210957),\n",
       " ('The Return of the King', 0.9139538),\n",
       " ('The Two Towers', 0.9136926),\n",
       " ('Harry Potter and the Goblet of Fire', 0.9094535),\n",
       " ('Harry Potter and the Deathly Hallows', 0.905774)]"
      ]
     },
     "execution_count": 39,
     "metadata": {},
     "output_type": "execute_result"
    }
   ],
   "source": [
    "search_books('gandalf')"
   ]
  },
  {
   "cell_type": "code",
   "execution_count": null,
   "metadata": {},
   "outputs": [
    {
     "data": {
      "text/plain": [
       "[('Harry Potter and the Deathly Hallows', 0.94605476),\n",
       " ('Harry Potter and the Order of the Phoenix', 0.94545454),\n",
       " (\"Harry Potter and the Philosopher's Stone\", 0.9438633),\n",
       " ('Harry Potter and the Half-Blood Prince', 0.9427199),\n",
       " ('Harry Potter and the Goblet of Fire', 0.9397863)]"
      ]
     },
     "execution_count": 40,
     "metadata": {},
     "output_type": "execute_result"
    }
   ],
   "source": [
    "search_books('Harry Potter')"
   ]
  }
 ],
 "metadata": {
  "kernelspec": {
   "display_name": "Python 3",
   "language": "python",
   "name": "python3"
  },
  "language_info": {
   "codemirror_mode": {
    "name": "ipython",
    "version": 3
   },
   "file_extension": ".py",
   "mimetype": "text/x-python",
   "name": "python",
   "nbconvert_exporter": "python",
   "pygments_lexer": "ipython3",
   "version": "3.11.5"
  },
  "orig_nbformat": 4
 },
 "nbformat": 4,
 "nbformat_minor": 2
}
